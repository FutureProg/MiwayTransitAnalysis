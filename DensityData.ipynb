{
 "cells": [
  {
   "cell_type": "code",
   "execution_count": 3,
   "metadata": {},
   "outputs": [],
   "source": [
    "import pandas as pd\n",
    "import geopandas as gpd\n",
    "import numpy as np"
   ]
  },
  {
   "cell_type": "markdown",
   "metadata": {},
   "source": [
    "# Residential\n",
    "## Residential Buildings"
   ]
  },
  {
   "cell_type": "code",
   "execution_count": 6,
   "metadata": {},
   "outputs": [],
   "source": [
    "df_resbuild = gpd.read_file('https://opendata.arcgis.com/datasets/8b57e88e62cf4d9791cf5568675d05da_0.geojson')"
   ]
  },
  {
   "cell_type": "code",
   "execution_count": 8,
   "metadata": {},
   "outputs": [
    {
     "data": {
      "text/plain": [
       "Index(['FID', 'BLDG_ID', 'BLDG_Name', 'Str_Number', 'StreetName', 'Address',\n",
       "       'Area_Ha', 'Area_Acre', 'GFA_RES_m2', 'GFARes_ft2', 'GFA_RET_m2',\n",
       "       'GFARet_ft2', 'GFA_Tot_m2', 'GFATot_ft2', 'BLDG_Type', 'Tenure_RES',\n",
       "       'Tenure_RET', 'Storeys', 'RES_Units', 'RET_Units', 'Inst_Beds',\n",
       "       'Units_Ha', 'Units_Acre', 'FSI', 'Year_Built', 'WardNumber',\n",
       "       'geometry'],\n",
       "      dtype='object')"
      ]
     },
     "execution_count": 8,
     "metadata": {},
     "output_type": "execute_result"
    }
   ],
   "source": [
    "df_resbuild.columns"
   ]
  },
  {
   "cell_type": "code",
   "execution_count": 12,
   "metadata": {},
   "outputs": [
    {
     "data": {
      "text/plain": [
       "FID                                                       2\n",
       "BLDG_ID                                                1856\n",
       "BLDG_Name                                                  \n",
       "Str_Number                                             2921\n",
       "StreetName                                       Derry Rd E\n",
       "Address                                     2921 Derry Rd E\n",
       "Area_Ha                                                0.15\n",
       "Area_Acre                                          0.370658\n",
       "GFA_RES_m2                                                0\n",
       "GFARes_ft2                                                0\n",
       "GFA_RET_m2                                                0\n",
       "GFARet_ft2                                                0\n",
       "GFA_Tot_m2                                                0\n",
       "GFATot_ft2                                                0\n",
       "BLDG_Type                                     Mixed RES/RET\n",
       "Tenure_RES                                                 \n",
       "Tenure_RET                                                 \n",
       "Storeys                                                   2\n",
       "RES_Units                                                 2\n",
       "RET_Units                                                 4\n",
       "Inst_Beds                                                 0\n",
       "Units_Ha                                                 40\n",
       "Units_Acre                                               16\n",
       "FSI                                                       0\n",
       "Year_Built                                                 \n",
       "WardNumber                                                5\n",
       "geometry      (POINT (-79.64339484167451 43.7038079723803))\n",
       "Name: 1, dtype: object"
      ]
     },
     "execution_count": 12,
     "metadata": {},
     "output_type": "execute_result"
    }
   ],
   "source": [
    "df_resbuild.head().iloc[1]"
   ]
  },
  {
   "cell_type": "code",
   "execution_count": 9,
   "metadata": {},
   "outputs": [
    {
     "data": {
      "text/plain": [
       "array(['Mixed RES/RET', 'Apartment', 'Residential Institution', 'Plex'],\n",
       "      dtype=object)"
      ]
     },
     "execution_count": 9,
     "metadata": {},
     "output_type": "execute_result"
    }
   ],
   "source": [
    "df_resbuild.BLDG_Type.unique()"
   ]
  },
  {
   "cell_type": "markdown",
   "metadata": {},
   "source": [
    "2921 is said to be a mixed residential retail zone, but looking on Google Maps we see the a law office and lounge. Thusly, it cannot be assumed that the type of building always maps exactly to their use, at least when talking about Mixed Use. \n",
    "\n",
    "<img src=\"./RefImages/2921DerryRoadEast.png\" width=\"200\"/>\n"
   ]
  },
  {
   "cell_type": "markdown",
   "metadata": {},
   "source": [
    "## Townhouses"
   ]
  },
  {
   "cell_type": "code",
   "execution_count": 18,
   "metadata": {},
   "outputs": [
    {
     "data": {
      "text/plain": [
       "Index(['FID', 'COMPLEX_ID', 'CHAR_AREA', 'Z_AREA', 'Str_Number', 'StreetName',\n",
       "       'Address', 'OP_DES', 'Zoning', 'Cplex_Name', 'Area_Ha', 'Area_Acre',\n",
       "       'Parking', 'GFA_RES_m2', 'GFARes_ft2', 'GFA_RET_m2', 'GFARet_ft2',\n",
       "       'GFA_Tot_m2', 'GFATot_ft2', 'Cplex_Type', 'Tenure_RES', 'Storeys',\n",
       "       'TH_Blocks', 'RES_Units', 'RET_Units', 'Unit_Ha', 'Unit_Acre', 'FSI',\n",
       "       'Year_Built', 'WardNumber', 'Shape__Area', 'Shape__Length', 'geometry'],\n",
       "      dtype='object')"
      ]
     },
     "execution_count": 18,
     "metadata": {},
     "output_type": "execute_result"
    }
   ],
   "source": [
    "df_townhouses = gpd.read_file('https://opendata.arcgis.com/datasets/34a39af0d72143a7a74e675fe5fdcbbf_0.geojson')\n",
    "df_townhouses.columns"
   ]
  },
  {
   "cell_type": "code",
   "execution_count": 20,
   "metadata": {},
   "outputs": [
    {
     "data": {
      "text/plain": [
       "array(['Townhouse', 'Detached', 'Other (Mobile Homes)', 'Semi-Detached'],\n",
       "      dtype=object)"
      ]
     },
     "execution_count": 20,
     "metadata": {},
     "output_type": "execute_result"
    }
   ],
   "source": [
    "df_townhouses.Cplex_Type.unique()"
   ]
  },
  {
   "cell_type": "code",
   "execution_count": 21,
   "metadata": {},
   "outputs": [
    {
     "data": {
      "text/plain": [
       "array(['Medium Density', 'Low Density II', 'High Density',\n",
       "       'Institutional', 'Mixed Use', 'Low  Density I', 'Low Density I',\n",
       "       'Low Density II, Medium Density', 'Medium Density, HighDensity',\n",
       "       'Mixed Use, Medium Density'], dtype=object)"
      ]
     },
     "execution_count": 21,
     "metadata": {},
     "output_type": "execute_result"
    }
   ],
   "source": [
    "df_townhouses.OP_DES.unique()"
   ]
  },
  {
   "cell_type": "markdown",
   "metadata": {},
   "source": [
    "There are detached homes, as well as high and low density homes. Let's take a look at those homes in particular. "
   ]
  },
  {
   "cell_type": "code",
   "execution_count": 23,
   "metadata": {},
   "outputs": [
    {
     "data": {
      "text/html": [
       "<div>\n",
       "<style scoped>\n",
       "    .dataframe tbody tr th:only-of-type {\n",
       "        vertical-align: middle;\n",
       "    }\n",
       "\n",
       "    .dataframe tbody tr th {\n",
       "        vertical-align: top;\n",
       "    }\n",
       "\n",
       "    .dataframe thead th {\n",
       "        text-align: right;\n",
       "    }\n",
       "</style>\n",
       "<table border=\"1\" class=\"dataframe\">\n",
       "  <thead>\n",
       "    <tr style=\"text-align: right;\">\n",
       "      <th></th>\n",
       "      <th>FID</th>\n",
       "      <th>COMPLEX_ID</th>\n",
       "      <th>CHAR_AREA</th>\n",
       "      <th>Z_AREA</th>\n",
       "      <th>Str_Number</th>\n",
       "      <th>StreetName</th>\n",
       "      <th>Address</th>\n",
       "      <th>OP_DES</th>\n",
       "      <th>Zoning</th>\n",
       "      <th>Cplex_Name</th>\n",
       "      <th>...</th>\n",
       "      <th>RES_Units</th>\n",
       "      <th>RET_Units</th>\n",
       "      <th>Unit_Ha</th>\n",
       "      <th>Unit_Acre</th>\n",
       "      <th>FSI</th>\n",
       "      <th>Year_Built</th>\n",
       "      <th>WardNumber</th>\n",
       "      <th>Shape__Area</th>\n",
       "      <th>Shape__Length</th>\n",
       "      <th>geometry</th>\n",
       "    </tr>\n",
       "  </thead>\n",
       "  <tbody>\n",
       "    <tr>\n",
       "      <th>422</th>\n",
       "      <td>423</td>\n",
       "      <td>1395</td>\n",
       "      <td>Cooksville NHD (West)</td>\n",
       "      <td>15</td>\n",
       "      <td>2165,2175/2130</td>\n",
       "      <td>Stavebank Rd/Dickson Rd</td>\n",
       "      <td>2165,2175/2130 Stavebank Rd/Dickson Rd</td>\n",
       "      <td>Low  Density I</td>\n",
       "      <td>R1-19</td>\n",
       "      <td>The Colony</td>\n",
       "      <td>...</td>\n",
       "      <td>40</td>\n",
       "      <td>0</td>\n",
       "      <td>10</td>\n",
       "      <td>4</td>\n",
       "      <td>0.223423</td>\n",
       "      <td>2001</td>\n",
       "      <td>7</td>\n",
       "      <td>76315.574219</td>\n",
       "      <td>1351.730864</td>\n",
       "      <td>POLYGON ((-79.61740 43.56039, -79.61716 43.560...</td>\n",
       "    </tr>\n",
       "  </tbody>\n",
       "</table>\n",
       "<p>1 rows × 33 columns</p>\n",
       "</div>"
      ],
      "text/plain": [
       "     FID  COMPLEX_ID              CHAR_AREA Z_AREA      Str_Number  \\\n",
       "422  423        1395  Cooksville NHD (West)     15  2165,2175/2130   \n",
       "\n",
       "                  StreetName                                 Address  \\\n",
       "422  Stavebank Rd/Dickson Rd  2165,2175/2130 Stavebank Rd/Dickson Rd   \n",
       "\n",
       "             OP_DES Zoning  Cplex_Name  ...  RES_Units  RET_Units  Unit_Ha  \\\n",
       "422  Low  Density I  R1-19  The Colony  ...         40          0       10   \n",
       "\n",
       "     Unit_Acre       FSI  Year_Built  WardNumber   Shape__Area  Shape__Length  \\\n",
       "422          4  0.223423        2001           7  76315.574219    1351.730864   \n",
       "\n",
       "                                              geometry  \n",
       "422  POLYGON ((-79.61740 43.56039, -79.61716 43.560...  \n",
       "\n",
       "[1 rows x 33 columns]"
      ]
     },
     "execution_count": 23,
     "metadata": {},
     "output_type": "execute_result"
    }
   ],
   "source": [
    "df_townhouses[df_townhouses['Cplex_Type'] == 'Detached'].sample()"
   ]
  },
  {
   "cell_type": "markdown",
   "metadata": {},
   "source": [
    "2165 Stavebank Rd is detached and has a density level of Low Density 1. Looking on Google Maps we see a large low density detached home. "
   ]
  },
  {
   "cell_type": "markdown",
   "metadata": {},
   "source": [
    "## Residential Centres"
   ]
  },
  {
   "cell_type": "code",
   "execution_count": 4,
   "metadata": {},
   "outputs": [],
   "source": [
    "df_res_centres = gpd.read_file(\"https://opendata.arcgis.com/datasets/04fcf2b85ba04fe5bd706939f0d811d8_0.geojson\")"
   ]
  },
  {
   "cell_type": "code",
   "execution_count": 5,
   "metadata": {},
   "outputs": [
    {
     "data": {
      "text/plain": [
       "Index(['FID', 'CENTRE_ID', 'CHAR_AREA', 'OP_DES', 'ZONING', 'Z_AREA',\n",
       "       'N_OF_BLDGS', 'PARKING', 'Shape__Area', 'Shape__Length', 'geometry'],\n",
       "      dtype='object')"
      ]
     },
     "execution_count": 5,
     "metadata": {},
     "output_type": "execute_result"
    }
   ],
   "source": [
    "df_res_centres.columns"
   ]
  },
  {
   "cell_type": "code",
   "execution_count": 10,
   "metadata": {},
   "outputs": [
    {
     "data": {
      "text/plain": [
       "array(['High Density', 'Medium Density', 'Low Density I', 'Mixed Use',\n",
       "       'Low Density II', 'High Density, Greenbelt', 'Institutional',\n",
       "       'Low Density I, Greenbelt', 'Business Employment', 'Office',\n",
       "       'Convenience Commercial', 'High Density, Mixed Use'], dtype=object)"
      ]
     },
     "execution_count": 10,
     "metadata": {},
     "output_type": "execute_result"
    }
   ],
   "source": [
    "df_res_centres['OP_DES'].unique()"
   ]
  },
  {
   "cell_type": "code",
   "execution_count": 14,
   "metadata": {},
   "outputs": [
    {
     "data": {
      "text/html": [
       "<div>\n",
       "<style scoped>\n",
       "    .dataframe tbody tr th:only-of-type {\n",
       "        vertical-align: middle;\n",
       "    }\n",
       "\n",
       "    .dataframe tbody tr th {\n",
       "        vertical-align: top;\n",
       "    }\n",
       "\n",
       "    .dataframe thead th {\n",
       "        text-align: right;\n",
       "    }\n",
       "</style>\n",
       "<table border=\"1\" class=\"dataframe\">\n",
       "  <thead>\n",
       "    <tr style=\"text-align: right;\">\n",
       "      <th></th>\n",
       "      <th>FID</th>\n",
       "      <th>CENTRE_ID</th>\n",
       "      <th>CHAR_AREA</th>\n",
       "      <th>OP_DES</th>\n",
       "      <th>ZONING</th>\n",
       "      <th>Z_AREA</th>\n",
       "      <th>N_OF_BLDGS</th>\n",
       "      <th>PARKING</th>\n",
       "      <th>Shape__Area</th>\n",
       "      <th>Shape__Length</th>\n",
       "      <th>geometry</th>\n",
       "    </tr>\n",
       "  </thead>\n",
       "  <tbody>\n",
       "    <tr>\n",
       "      <th>581</th>\n",
       "      <td>582</td>\n",
       "      <td>1355</td>\n",
       "      <td>Clarkson - Lorne Park NHD</td>\n",
       "      <td>Low Density I, Greenbelt</td>\n",
       "      <td>R1-36</td>\n",
       "      <td>3</td>\n",
       "      <td>1</td>\n",
       "      <td>43</td>\n",
       "      <td>26778.964844</td>\n",
       "      <td>1004.267222</td>\n",
       "      <td>POLYGON ((-79.62300 43.51242, -79.62297 43.512...</td>\n",
       "    </tr>\n",
       "  </tbody>\n",
       "</table>\n",
       "</div>"
      ],
      "text/plain": [
       "     FID  CENTRE_ID                  CHAR_AREA                    OP_DES  \\\n",
       "581  582       1355  Clarkson - Lorne Park NHD  Low Density I, Greenbelt   \n",
       "\n",
       "    ZONING Z_AREA  N_OF_BLDGS  PARKING   Shape__Area  Shape__Length  \\\n",
       "581  R1-36      3           1       43  26778.964844    1004.267222   \n",
       "\n",
       "                                              geometry  \n",
       "581  POLYGON ((-79.62300 43.51242, -79.62297 43.512...  "
      ]
     },
     "execution_count": 14,
     "metadata": {},
     "output_type": "execute_result"
    }
   ],
   "source": [
    "df_res_centres[df_res_centres['OP_DES'] == 'Low Density I, Greenbelt']"
   ]
  },
  {
   "cell_type": "markdown",
   "metadata": {},
   "source": [
    "# Offices\n",
    "## Office Buildings"
   ]
  },
  {
   "cell_type": "code",
   "execution_count": null,
   "metadata": {},
   "outputs": [],
   "source": [
    "df_office_bldgs = gpd.read_file('https://opendata.arcgis.com/datasets/439debbd5bb142c98f834095e730f831_0.geojson')"
   ]
  }
 ],
 "metadata": {
  "kernelspec": {
   "display_name": "Python 3",
   "language": "python",
   "name": "python3"
  },
  "language_info": {
   "codemirror_mode": {
    "name": "ipython",
    "version": 3
   },
   "file_extension": ".py",
   "mimetype": "text/x-python",
   "name": "python",
   "nbconvert_exporter": "python",
   "pygments_lexer": "ipython3",
   "version": "3.7.4"
  }
 },
 "nbformat": 4,
 "nbformat_minor": 4
}
