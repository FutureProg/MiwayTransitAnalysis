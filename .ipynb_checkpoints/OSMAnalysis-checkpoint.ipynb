{
 "cells": [
  {
   "cell_type": "code",
   "execution_count": 41,
   "metadata": {},
   "outputs": [],
   "source": [
    "import pandas as pd\n",
    "import folium\n",
    "import overpy\n",
    "api = overpy.Overpass()"
   ]
  },
  {
   "cell_type": "code",
   "execution_count": 42,
   "metadata": {},
   "outputs": [],
   "source": [
    "with open('/Users/Nick/Documents/Personal/Data/Mississauga/mississauga.osm') as f:\n",
    "    osm_data = api.parse_xml(data=f.read(), encoding='utf-8', parser=None)"
   ]
  },
  {
   "cell_type": "code",
   "execution_count": 43,
   "metadata": {},
   "outputs": [
    {
     "name": "stdout",
     "output_type": "stream",
     "text": [
      "{'lanes': '1', 'oneway': 'yes', 'highway': 'motorway_link', 'surface': 'asphalt', 'destination': 'Toronto', 'destination:ref': '401 East', 'maxspeed:advisory': '30'}\n",
      "[<overpy.Node id=21420939 lat=43.6050596 lon=-79.7456858>, <overpy.Node id=21420940 lat=43.6048316 lon=-79.7454805>, <overpy.Node id=21420941 lat=43.60464 lon=-79.7453672>, <overpy.Node id=21420942 lat=43.6044563 lon=-79.7453585>, <overpy.Node id=21420943 lat=43.6042816 lon=-79.7454394>, <overpy.Node id=21420946 lat=43.6041467 lon=-79.7456038>, <overpy.Node id=21420947 lat=43.6040641 lon=-79.7458801>, <overpy.Node id=1907807323 lat=43.6040682 lon=-79.7461696>, <overpy.Node id=1907807324 lat=43.6041475 lon=-79.7464136>, <overpy.Node id=1907807325 lat=43.6043151 lon=-79.7466013>, <overpy.Node id=21420948 lat=43.6044812 lon=-79.7466539>, <overpy.Node id=21420949 lat=43.6046486 lon=-79.7466565>, <overpy.Node id=21420950 lat=43.6048886 lon=-79.7465118>, <overpy.Node id=21420951 lat=43.6051678 lon=-79.7461846>, <overpy.Node id=1907807330 lat=43.6058655 lon=-79.7448242>, <overpy.Node id=4094840447 lat=43.6060395 lon=-79.7444393>, <overpy.Node id=2714580461 lat=43.6061423 lon=-79.7442821>]\n"
     ]
    }
   ],
   "source": [
    "print(osm_data.ways[8].tags)\n",
    "print(osm_data.ways[8].nodes)"
   ]
  },
  {
   "cell_type": "code",
   "execution_count": 51,
   "metadata": {},
   "outputs": [
    {
     "name": "stdout",
     "output_type": "stream",
     "text": [
      "501\n"
     ]
    }
   ],
   "source": [
    "count = 0\n",
    "good_ways = []\n",
    "for x in osm_data.ways:\n",
    "    try:\n",
    "        x.nodes\n",
    "    except:\n",
    "        count = count+1\n",
    "    good_ways.append(x)\n",
    "print(count)"
   ]
  },
  {
   "cell_type": "code",
   "execution_count": 52,
   "metadata": {},
   "outputs": [
    {
     "data": {
      "text/plain": [
       "91488"
      ]
     },
     "execution_count": 52,
     "metadata": {},
     "output_type": "execute_result"
    }
   ],
   "source": [
    "len(good_ways)"
   ]
  },
  {
   "cell_type": "code",
   "execution_count": 53,
   "metadata": {},
   "outputs": [],
   "source": []
  },
  {
   "cell_type": "code",
   "execution_count": null,
   "metadata": {},
   "outputs": [],
   "source": []
  }
 ],
 "metadata": {
  "kernelspec": {
   "display_name": "Python 3",
   "language": "python",
   "name": "python3"
  },
  "language_info": {
   "codemirror_mode": {
    "name": "ipython",
    "version": 3
   },
   "file_extension": ".py",
   "mimetype": "text/x-python",
   "name": "python",
   "nbconvert_exporter": "python",
   "pygments_lexer": "ipython3",
   "version": "3.7.3"
  }
 },
 "nbformat": 4,
 "nbformat_minor": 2
}
